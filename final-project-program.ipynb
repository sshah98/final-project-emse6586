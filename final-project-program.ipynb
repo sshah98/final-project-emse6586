{
 "cells": [
  {
   "cell_type": "code",
   "execution_count": 2,
   "metadata": {},
   "outputs": [],
   "source": [
    "import pymysql.cursors\n",
    "import pandas as pd\n",
    "\n",
    "# Connect to the database\n",
    "conn = pymysql.connect(host='gwumysql-restore.cazdwdlcg6dm.us-east-2.rds.amazonaws.com',\n",
    "                             user='EMSE6992',\n",
    "                             port=3306,\n",
    "                             db='EMSE6992',\n",
    "                             password='MySQLpass',\n",
    "                             cursorclass=pymysql.cursors.DictCursor)\n",
    "\n",
    "cursor = conn.cursor()\n",
    "\n"
   ]
  },
  {
   "cell_type": "code",
   "execution_count": 5,
   "metadata": {},
   "outputs": [],
   "source": [
    "# https://www.kaggle.com/shrutimehta/zomato-restaurants-data"
   ]
  },
  {
   "cell_type": "code",
   "execution_count": 7,
   "metadata": {},
   "outputs": [],
   "source": [
    "# For this project you’ll be taking a dataset, loading it into a database, and then leveraging the database to develop some analytical insights. The datasets cover a variety of topics and formats. Your first task will be to determine which database system you think will work best with your selected dataset. At that point you will need to write a script, or leverage tools for the database, to load the dataset. Once the information has been loaded, you will need to query the database to create your insights."
   ]
  },
  {
   "cell_type": "code",
   "execution_count": 3,
   "metadata": {},
   "outputs": [],
   "source": [
    "# MySQL"
   ]
  },
  {
   "cell_type": "code",
   "execution_count": null,
   "metadata": {},
   "outputs": [],
   "source": [
    "# First import the csv into msql\n",
    "\n",
    "#put into dataframe\n",
    "\n",
    "# information we need to get\n",
    "\n",
    "# First query: segment the resturants by ratings per country in order  - how many 4.9/5 star ratings are there\n",
    "\n",
    "# Second query: Most popular cuisine per country - use highest rating per resturant\n",
    "\n",
    "# Third query: Number of votes vs aggregate rating overall -- Check the highest rated places based on the number of votes\n",
    "\n",
    "# Fourth query: if the place has online delievery does it have higher rating\n",
    "\n",
    "# Fifth: if the place has table booking does it have higher rating\n",
    "\n",
    "# Sixth: price point that yields highest rating -- or something of the sort\n",
    "\n",
    "# 7th - look at different localities in the countries and see the popular areas for resturants\n",
    "\n",
    "# 8th - price range vs ratings text and see if a resturant that has a higher price range is more popular\n",
    "\n",
    "# 9th - most reviewed countries\n",
    "\n"
   ]
  }
 ],
 "metadata": {
  "kernelspec": {
   "display_name": "Python [conda env:comp_dbs] *",
   "language": "python",
   "name": "conda-env-comp_dbs-py"
  },
  "language_info": {
   "codemirror_mode": {
    "name": "ipython",
    "version": 3
   },
   "file_extension": ".py",
   "mimetype": "text/x-python",
   "name": "python",
   "nbconvert_exporter": "python",
   "pygments_lexer": "ipython3",
   "version": "3.7.6"
  }
 },
 "nbformat": 4,
 "nbformat_minor": 2
}
