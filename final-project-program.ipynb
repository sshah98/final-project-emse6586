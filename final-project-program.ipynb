{
 "cells": [
  {
   "cell_type": "code",
   "execution_count": 1,
   "metadata": {},
   "outputs": [],
   "source": [
    "# Dataset: https://www.kaggle.com/shrutimehta/zomato-restaurants-data\n",
    "\n",
    "\n",
    "\"\"\"\n",
    "For this project you’ll be taking a dataset, loading it into a database, and then leveraging the database to develop some analytical insights. The datasets cover a variety of topics and formats. Your first task will be to determine which database system you think will work best with your selected dataset. At that point you will need to write a script, or leverage tools for the database, to load the dataset. Once the information has been loaded, you will need to query the database to create your insights.\n",
    "\"\"\"\n",
    "\n",
    "# Database being used: MySQL\n",
    "\n",
    "import pymysql.cursors\n",
    "import pandas as pd\n",
    "import matplotlib.pyplot as plt\n",
    "from scipy.stats import pearsonr\n",
    "\n",
    "# Connect to the database\n",
    "conn = pymysql.connect(host='gwumysql-restore.cazdwdlcg6dm.us-east-2.rds.amazonaws.com',\n",
    "                             user='EMSE6992',\n",
    "                             port=3306,\n",
    "                             db='test_db',\n",
    "                             password='MySQLpass',\n",
    "                             cursorclass=pymysql.cursors.DictCursor)\n",
    "\n",
    "cursor = conn.cursor()"
   ]
  },
  {
   "cell_type": "code",
   "execution_count": 2,
   "metadata": {},
   "outputs": [
    {
     "data": {
      "text/html": [
       "<div>\n",
       "<style scoped>\n",
       "    .dataframe tbody tr th:only-of-type {\n",
       "        vertical-align: middle;\n",
       "    }\n",
       "\n",
       "    .dataframe tbody tr th {\n",
       "        vertical-align: top;\n",
       "    }\n",
       "\n",
       "    .dataframe thead th {\n",
       "        text-align: right;\n",
       "    }\n",
       "</style>\n",
       "<table border=\"1\" class=\"dataframe\">\n",
       "  <thead>\n",
       "    <tr style=\"text-align: right;\">\n",
       "      <th></th>\n",
       "      <th>Restaurant ID</th>\n",
       "      <th>Country Code</th>\n",
       "      <th>City</th>\n",
       "      <th>Longitude</th>\n",
       "      <th>Latitude</th>\n",
       "      <th>Cuisines</th>\n",
       "      <th>Average Cost for two</th>\n",
       "      <th>Currency</th>\n",
       "      <th>Has Table booking</th>\n",
       "      <th>Has Online delivery</th>\n",
       "      <th>Is delivering now</th>\n",
       "      <th>Switch to order menu</th>\n",
       "      <th>Price range</th>\n",
       "      <th>Aggregate rating</th>\n",
       "      <th>Rating color</th>\n",
       "      <th>Rating text</th>\n",
       "      <th>Votes</th>\n",
       "    </tr>\n",
       "  </thead>\n",
       "  <tbody>\n",
       "    <tr>\n",
       "      <th>0</th>\n",
       "      <td>6317637</td>\n",
       "      <td>162</td>\n",
       "      <td>Makati City</td>\n",
       "      <td>121.027535</td>\n",
       "      <td>14.565443</td>\n",
       "      <td>French, Japanese, Desserts</td>\n",
       "      <td>1100</td>\n",
       "      <td>Botswana Pula(P)</td>\n",
       "      <td>Yes</td>\n",
       "      <td>No</td>\n",
       "      <td>No</td>\n",
       "      <td>No</td>\n",
       "      <td>3</td>\n",
       "      <td>4.8</td>\n",
       "      <td>Dark Green</td>\n",
       "      <td>Excellent</td>\n",
       "      <td>314</td>\n",
       "    </tr>\n",
       "    <tr>\n",
       "      <th>1</th>\n",
       "      <td>6304287</td>\n",
       "      <td>162</td>\n",
       "      <td>Makati City</td>\n",
       "      <td>121.014101</td>\n",
       "      <td>14.553708</td>\n",
       "      <td>Japanese</td>\n",
       "      <td>1200</td>\n",
       "      <td>Botswana Pula(P)</td>\n",
       "      <td>Yes</td>\n",
       "      <td>No</td>\n",
       "      <td>No</td>\n",
       "      <td>No</td>\n",
       "      <td>3</td>\n",
       "      <td>4.5</td>\n",
       "      <td>Dark Green</td>\n",
       "      <td>Excellent</td>\n",
       "      <td>591</td>\n",
       "    </tr>\n",
       "    <tr>\n",
       "      <th>2</th>\n",
       "      <td>6300002</td>\n",
       "      <td>162</td>\n",
       "      <td>Mandaluyong City</td>\n",
       "      <td>121.056831</td>\n",
       "      <td>14.581404</td>\n",
       "      <td>Seafood, Asian, Filipino, Indian</td>\n",
       "      <td>4000</td>\n",
       "      <td>Botswana Pula(P)</td>\n",
       "      <td>Yes</td>\n",
       "      <td>No</td>\n",
       "      <td>No</td>\n",
       "      <td>No</td>\n",
       "      <td>4</td>\n",
       "      <td>4.4</td>\n",
       "      <td>Green</td>\n",
       "      <td>Very Good</td>\n",
       "      <td>270</td>\n",
       "    </tr>\n",
       "    <tr>\n",
       "      <th>3</th>\n",
       "      <td>6318506</td>\n",
       "      <td>162</td>\n",
       "      <td>Mandaluyong City</td>\n",
       "      <td>121.056475</td>\n",
       "      <td>14.585318</td>\n",
       "      <td>Japanese, Sushi</td>\n",
       "      <td>1500</td>\n",
       "      <td>Botswana Pula(P)</td>\n",
       "      <td>No</td>\n",
       "      <td>No</td>\n",
       "      <td>No</td>\n",
       "      <td>No</td>\n",
       "      <td>4</td>\n",
       "      <td>4.9</td>\n",
       "      <td>Dark Green</td>\n",
       "      <td>Excellent</td>\n",
       "      <td>365</td>\n",
       "    </tr>\n",
       "    <tr>\n",
       "      <th>4</th>\n",
       "      <td>6314302</td>\n",
       "      <td>162</td>\n",
       "      <td>Mandaluyong City</td>\n",
       "      <td>121.057508</td>\n",
       "      <td>14.584450</td>\n",
       "      <td>Japanese, Korean</td>\n",
       "      <td>1500</td>\n",
       "      <td>Botswana Pula(P)</td>\n",
       "      <td>Yes</td>\n",
       "      <td>No</td>\n",
       "      <td>No</td>\n",
       "      <td>No</td>\n",
       "      <td>4</td>\n",
       "      <td>4.8</td>\n",
       "      <td>Dark Green</td>\n",
       "      <td>Excellent</td>\n",
       "      <td>229</td>\n",
       "    </tr>\n",
       "    <tr>\n",
       "      <th>...</th>\n",
       "      <td>...</td>\n",
       "      <td>...</td>\n",
       "      <td>...</td>\n",
       "      <td>...</td>\n",
       "      <td>...</td>\n",
       "      <td>...</td>\n",
       "      <td>...</td>\n",
       "      <td>...</td>\n",
       "      <td>...</td>\n",
       "      <td>...</td>\n",
       "      <td>...</td>\n",
       "      <td>...</td>\n",
       "      <td>...</td>\n",
       "      <td>...</td>\n",
       "      <td>...</td>\n",
       "      <td>...</td>\n",
       "      <td>...</td>\n",
       "    </tr>\n",
       "    <tr>\n",
       "      <th>9546</th>\n",
       "      <td>5915730</td>\n",
       "      <td>208</td>\n",
       "      <td>??stanbul</td>\n",
       "      <td>28.977392</td>\n",
       "      <td>41.022793</td>\n",
       "      <td>Turkish</td>\n",
       "      <td>80</td>\n",
       "      <td>Turkish Lira(TL)</td>\n",
       "      <td>No</td>\n",
       "      <td>No</td>\n",
       "      <td>No</td>\n",
       "      <td>No</td>\n",
       "      <td>3</td>\n",
       "      <td>4.1</td>\n",
       "      <td>Green</td>\n",
       "      <td>Very Good</td>\n",
       "      <td>788</td>\n",
       "    </tr>\n",
       "    <tr>\n",
       "      <th>9547</th>\n",
       "      <td>5908749</td>\n",
       "      <td>208</td>\n",
       "      <td>??stanbul</td>\n",
       "      <td>29.041297</td>\n",
       "      <td>41.009847</td>\n",
       "      <td>World Cuisine, Patisserie, Cafe</td>\n",
       "      <td>105</td>\n",
       "      <td>Turkish Lira(TL)</td>\n",
       "      <td>No</td>\n",
       "      <td>No</td>\n",
       "      <td>No</td>\n",
       "      <td>No</td>\n",
       "      <td>3</td>\n",
       "      <td>4.2</td>\n",
       "      <td>Green</td>\n",
       "      <td>Very Good</td>\n",
       "      <td>1034</td>\n",
       "    </tr>\n",
       "    <tr>\n",
       "      <th>9548</th>\n",
       "      <td>5915807</td>\n",
       "      <td>208</td>\n",
       "      <td>??stanbul</td>\n",
       "      <td>29.034640</td>\n",
       "      <td>41.055817</td>\n",
       "      <td>Italian, World Cuisine</td>\n",
       "      <td>170</td>\n",
       "      <td>Turkish Lira(TL)</td>\n",
       "      <td>No</td>\n",
       "      <td>No</td>\n",
       "      <td>No</td>\n",
       "      <td>No</td>\n",
       "      <td>4</td>\n",
       "      <td>3.7</td>\n",
       "      <td>Yellow</td>\n",
       "      <td>Good</td>\n",
       "      <td>661</td>\n",
       "    </tr>\n",
       "    <tr>\n",
       "      <th>9549</th>\n",
       "      <td>5916112</td>\n",
       "      <td>208</td>\n",
       "      <td>??stanbul</td>\n",
       "      <td>29.036019</td>\n",
       "      <td>41.057979</td>\n",
       "      <td>Restaurant Cafe</td>\n",
       "      <td>120</td>\n",
       "      <td>Turkish Lira(TL)</td>\n",
       "      <td>No</td>\n",
       "      <td>No</td>\n",
       "      <td>No</td>\n",
       "      <td>No</td>\n",
       "      <td>4</td>\n",
       "      <td>4.0</td>\n",
       "      <td>Green</td>\n",
       "      <td>Very Good</td>\n",
       "      <td>901</td>\n",
       "    </tr>\n",
       "    <tr>\n",
       "      <th>9550</th>\n",
       "      <td>5927402</td>\n",
       "      <td>208</td>\n",
       "      <td>??stanbul</td>\n",
       "      <td>29.026016</td>\n",
       "      <td>40.984776</td>\n",
       "      <td>Cafe</td>\n",
       "      <td>55</td>\n",
       "      <td>Turkish Lira(TL)</td>\n",
       "      <td>No</td>\n",
       "      <td>No</td>\n",
       "      <td>No</td>\n",
       "      <td>No</td>\n",
       "      <td>2</td>\n",
       "      <td>4.0</td>\n",
       "      <td>Green</td>\n",
       "      <td>Very Good</td>\n",
       "      <td>591</td>\n",
       "    </tr>\n",
       "  </tbody>\n",
       "</table>\n",
       "<p>9551 rows × 17 columns</p>\n",
       "</div>"
      ],
      "text/plain": [
       "      Restaurant ID  Country Code              City   Longitude   Latitude  \\\n",
       "0           6317637           162       Makati City  121.027535  14.565443   \n",
       "1           6304287           162       Makati City  121.014101  14.553708   \n",
       "2           6300002           162  Mandaluyong City  121.056831  14.581404   \n",
       "3           6318506           162  Mandaluyong City  121.056475  14.585318   \n",
       "4           6314302           162  Mandaluyong City  121.057508  14.584450   \n",
       "...             ...           ...               ...         ...        ...   \n",
       "9546        5915730           208         ??stanbul   28.977392  41.022793   \n",
       "9547        5908749           208         ??stanbul   29.041297  41.009847   \n",
       "9548        5915807           208         ??stanbul   29.034640  41.055817   \n",
       "9549        5916112           208         ??stanbul   29.036019  41.057979   \n",
       "9550        5927402           208         ??stanbul   29.026016  40.984776   \n",
       "\n",
       "                              Cuisines  Average Cost for two  \\\n",
       "0           French, Japanese, Desserts                  1100   \n",
       "1                             Japanese                  1200   \n",
       "2     Seafood, Asian, Filipino, Indian                  4000   \n",
       "3                      Japanese, Sushi                  1500   \n",
       "4                     Japanese, Korean                  1500   \n",
       "...                                ...                   ...   \n",
       "9546                           Turkish                    80   \n",
       "9547   World Cuisine, Patisserie, Cafe                   105   \n",
       "9548            Italian, World Cuisine                   170   \n",
       "9549                   Restaurant Cafe                   120   \n",
       "9550                              Cafe                    55   \n",
       "\n",
       "              Currency Has Table booking Has Online delivery  \\\n",
       "0     Botswana Pula(P)               Yes                  No   \n",
       "1     Botswana Pula(P)               Yes                  No   \n",
       "2     Botswana Pula(P)               Yes                  No   \n",
       "3     Botswana Pula(P)                No                  No   \n",
       "4     Botswana Pula(P)               Yes                  No   \n",
       "...                ...               ...                 ...   \n",
       "9546  Turkish Lira(TL)                No                  No   \n",
       "9547  Turkish Lira(TL)                No                  No   \n",
       "9548  Turkish Lira(TL)                No                  No   \n",
       "9549  Turkish Lira(TL)                No                  No   \n",
       "9550  Turkish Lira(TL)                No                  No   \n",
       "\n",
       "     Is delivering now Switch to order menu  Price range  Aggregate rating  \\\n",
       "0                   No                   No            3               4.8   \n",
       "1                   No                   No            3               4.5   \n",
       "2                   No                   No            4               4.4   \n",
       "3                   No                   No            4               4.9   \n",
       "4                   No                   No            4               4.8   \n",
       "...                ...                  ...          ...               ...   \n",
       "9546                No                   No            3               4.1   \n",
       "9547                No                   No            3               4.2   \n",
       "9548                No                   No            4               3.7   \n",
       "9549                No                   No            4               4.0   \n",
       "9550                No                   No            2               4.0   \n",
       "\n",
       "     Rating color Rating text  Votes  \n",
       "0      Dark Green   Excellent    314  \n",
       "1      Dark Green   Excellent    591  \n",
       "2           Green   Very Good    270  \n",
       "3      Dark Green   Excellent    365  \n",
       "4      Dark Green   Excellent    229  \n",
       "...           ...         ...    ...  \n",
       "9546        Green   Very Good    788  \n",
       "9547        Green   Very Good   1034  \n",
       "9548       Yellow        Good    661  \n",
       "9549        Green   Very Good    901  \n",
       "9550        Green   Very Good    591  \n",
       "\n",
       "[9551 rows x 17 columns]"
      ]
     },
     "execution_count": 2,
     "metadata": {},
     "output_type": "execute_result"
    }
   ],
   "source": [
    "# A simple query to see what data we're working with and converting it to a dataframe for easy visuals\n",
    "\n",
    "cursor.execute(\"SELECT * from zomato\")\n",
    "result = cursor.fetchall()\n",
    "\n",
    "# convert the result to a dataframe\n",
    "df = pd.DataFrame.from_dict(result)\n",
    "\n",
    "df"
   ]
  },
  {
   "cell_type": "code",
   "execution_count": 43,
   "metadata": {},
   "outputs": [
    {
     "name": "stdout",
     "output_type": "stream",
     "text": [
      "    Country Code  Restaurant ID         Country\n",
      "0              1            116           India\n",
      "1             14              1       Australia\n",
      "2             30             16          Brazil\n",
      "3             94              7       Indonesia\n",
      "4            148             12     New Zealand\n",
      "5            162             12     Phillipines\n",
      "6            166              4           Qatar\n",
      "7            189             12    South Africa\n",
      "8            191              2       Sri Lanka\n",
      "9            208             10          Turkey\n",
      "10           214             18             UAE\n",
      "11           215             23  United Kingdom\n",
      "12           216             68   United States\n"
     ]
    },
    {
     "data": {
      "text/plain": [
       "Text(0.5, 1.0, '4.5+ rating restaurants in each country')"
      ]
     },
     "execution_count": 43,
     "metadata": {},
     "output_type": "execute_result"
    },
    {
     "data": {
      "image/png": "[encoded data removed]",
      "text/plain": [
       "<Figure size 2160x720 with 1 Axes>"
      ]
     },
     "metadata": {
      "needs_background": "light"
     },
     "output_type": "display_data"
    }
   ],
   "source": [
    "# First query: Countries with the number of popular restaurants - use highest rating per resturant (4.8+)\n",
    "\n",
    "cursor.execute(\"SELECT * FROM test_db.zomato WHERE `Aggregate rating`>= 4.5 order by `Country Code` asc\")\n",
    "result = cursor.fetchall()\n",
    "df = pd.DataFrame.from_dict(result)\n",
    "\n",
    "best_resturants = df.groupby(['Country Code'], as_index=False).count()[['Country Code', 'Restaurant ID']]\n",
    "country = pd.read_excel('Country-Code.xlsx')\n",
    "data = pd.merge(best_resturants, country, on='Country Code')\n",
    "\n",
    "print(data)\n",
    "\n",
    "plt.figure(figsize=(30,10))\n",
    "plt.bar(data['Country'], data['Restaurant ID'])\n",
    "plt.xlabel('Country')\n",
    "plt.ylabel('Number of Restaurant')\n",
    "plt.title('4.5+ rating restaurants in each country')"
   ]
  },
  {
   "cell_type": "code",
   "execution_count": 4,
   "metadata": {},
   "outputs": [
    {
     "name": "stdout",
     "output_type": "stream",
     "text": [
      "    Average Rating  Country Code\n",
      "0         2.523324             1\n",
      "1         3.658333            14\n",
      "2         3.763333            30\n",
      "3         3.575000            37\n",
      "4         4.295238            94\n",
      "5         4.262500           148\n",
      "6         4.468182           162\n",
      "7         4.060000           166\n",
      "8         3.575000           184\n",
      "9         4.210000           189\n",
      "10        3.870000           191\n",
      "11        4.300000           208\n",
      "12        4.233333           214\n",
      "13        4.087500           215\n",
      "14        4.004378           216\n"
     ]
    },
    {
     "data": {
      "text/plain": [
       "<BarContainer object of 15 artists>"
      ]
     },
     "execution_count": 4,
     "metadata": {},
     "output_type": "execute_result"
    },
    {
     "data": {
      "image/png": "[encoded data removed]",
      "text/plain": [
       "<Figure size 2160x720 with 1 Axes>"
      ]
     },
     "metadata": {
      "needs_background": "light"
     },
     "output_type": "display_data"
    }
   ],
   "source": [
    "# Second query: Average rating in each country for restaurants\n",
    "\n",
    "cursor.execute(\"SELECT Avg(`Aggregate rating`) as `Average Rating`, `Country Code` FROM test_db.zomato group by `Country Code`\")\n",
    "result = cursor.fetchall()\n",
    "df = pd.DataFrame.from_dict(result)\n",
    "\n",
    "country = pd.read_excel('Country-Code.xlsx')\n",
    "data = pd.merge(df, country, on='Country Code')\n",
    "\n",
    "print(df)\n",
    "\n",
    "plt.figure(figsize=(30,10))\n",
    "plt.xlabel('Country')\n",
    "plt.ylabel('Average Rating')\n",
    "plt.title('Average rating for each country')\n",
    "plt.bar(data['Country'], data['Average Rating'])\n",
    "\n"
   ]
  },
  {
   "cell_type": "code",
   "execution_count": 11,
   "metadata": {},
   "outputs": [
    {
     "name": "stdout",
     "output_type": "stream",
     "text": [
      "      average rating                         Cuisines\n",
      "38              4.90     American, Caribbean, Seafood\n",
      "94              4.90          American, Sandwich, Tea\n",
      "1780            4.90                Sunda, Indonesian\n",
      "18              4.90          American, BBQ, Sandwich\n",
      "684             4.90              Continental, Indian\n",
      "950             4.90                Hawaiian, Seafood\n",
      "1215            4.90  Mexican, American, Healthy Food\n",
      "804             4.90           European, Contemporary\n",
      "809             4.90                 European, German\n",
      "1287            4.90                Mughlai, Lucknowi\n",
      "216             4.90         BBQ, Breakfast, Southern\n",
      "797             4.90          European, Asian, Indian\n",
      "1063            4.90                    Italian, Deli\n",
      "34              4.90          American, Burger, Grill\n",
      "42              4.90         American, Coffee and Tea\n",
      "1035            4.90     Italian, Bakery, Continental\n",
      "1823            4.90                    World Cuisine\n",
      "303             4.90          Burger, Bar Food, Steak\n",
      "895             4.85                Filipino, Mexican\n",
      "624             4.80            Contemporary, Italian\n"
     ]
    },
    {
     "data": {
      "text/plain": [
       "<BarContainer object of 10 artists>"
      ]
     },
     "execution_count": 11,
     "metadata": {},
     "output_type": "execute_result"
    },
    {
     "data": {
      "image/png": "[encoded data removed]",
      "text/plain": [
       "<Figure size 2160x720 with 1 Axes>"
      ]
     },
     "metadata": {
      "needs_background": "light"
     },
     "output_type": "display_data"
    }
   ],
   "source": [
    "# Third Query: The top rated Cuisines in the dataset\n",
    "\n",
    "cursor.execute(\"SELECT AVG(`Aggregate rating`) as `average rating`, `Cuisines` FROM test_db.zomato group by Cuisines\")\n",
    "result = cursor.fetchall()\n",
    "df = pd.DataFrame.from_dict(result)\n",
    "\n",
    "data = (df.sort_values(['average rating'], ascending=False))\n",
    "\n",
    "# Print out the first 25 Cuisines to see the difference, but can only plot the first 10 to show the visibilitys\n",
    "print(data.head(20))\n",
    "\n",
    "plt.figure(figsize=(30,10))\n",
    "plt.xlabel('Cuisines')\n",
    "plt.ylabel('average rating')\n",
    "plt.title('Average rating for each Cuisines')\n",
    "plt.bar(data.head(10)['Cuisines'], data.head(10)['average rating'])\n",
    "\n"
   ]
  },
  {
   "cell_type": "code",
   "execution_count": 13,
   "metadata": {},
   "outputs": [
    {
     "name": "stdout",
     "output_type": "stream",
     "text": [
      "    Count(votes)  AVG(`Aggregate rating`)  Country Code         Country\n",
      "0           8652                 2.523324             1           India\n",
      "1             24                 3.658333            14       Australia\n",
      "2             60                 3.763333            30          Brazil\n",
      "3              4                 3.575000            37          Canada\n",
      "4             21                 4.295238            94       Indonesia\n",
      "5             40                 4.262500           148     New Zealand\n",
      "6             22                 4.468182           162     Phillipines\n",
      "7             20                 4.060000           166           Qatar\n",
      "8             20                 3.575000           184       Singapore\n",
      "9             60                 4.210000           189    South Africa\n",
      "10            20                 3.870000           191       Sri Lanka\n",
      "11            34                 4.300000           208          Turkey\n",
      "12            60                 4.233333           214             UAE\n",
      "13            80                 4.087500           215  United Kingdom\n",
      "14           434                 4.004378           216   United States\n"
     ]
    }
   ],
   "source": [
    "# Countries with the most reviews (votes)\n",
    "\n",
    "cursor.execute(\"SELECT Count(votes), AVG(`Aggregate rating`), `Country Code` FROM test_db.zomato group by `Country Code`\")\n",
    "result = cursor.fetchall()\n",
    "\n",
    "df = pd.DataFrame.from_dict(result)\n",
    "country = pd.read_excel('Country-Code.xlsx')\n",
    "data = pd.merge(df, country, on='Country Code')\n",
    "\n",
    "print(data)\n",
    "\n",
    "\n"
   ]
  },
  {
   "cell_type": "code",
   "execution_count": 3,
   "metadata": {},
   "outputs": [
    {
     "name": "stdout",
     "output_type": "stream",
     "text": [
      "   Average Rating Has Online delivery\n",
      "0        2.465296                  No\n",
      "1        3.248837                 Yes\n"
     ]
    }
   ],
   "source": [
    "# Fourth query: if the place has online delievery does it have higher rating\n",
    "cursor.execute(\"SELECT AVG(`Aggregate rating`) as 'Average Rating', `Has Online delivery` FROM test_db.zomato group by `Has Online delivery`\")#WHERE 'Has Online delivery' = 'Yes'\")\n",
    "result = cursor.fetchall()\n",
    "online_delivery_df = pd.DataFrame.from_dict(result)\n",
    "print(online_delivery_df)"
   ]
  },
  {
   "cell_type": "code",
   "execution_count": 15,
   "metadata": {},
   "outputs": [
    {
     "name": "stdout",
     "output_type": "stream",
     "text": [
      "  Has Table booking  Aggregate rating\n",
      "0                No               4.9\n",
      "1               Yes               4.8\n"
     ]
    }
   ],
   "source": [
    "# Fifth: if the place has table booking does it have higher rating\n",
    "cursor.execute(\"SELECT `Has Table booking`, `Aggregate rating` FROM test_db.zomato group by `Has Table booking`\")#WHERE 'Has Online delivery' = 'Yes'\")\n",
    "result = cursor.fetchall()\n",
    "df = pd.DataFrame.from_dict(result)\n",
    "print(df)"
   ]
  },
  {
   "cell_type": "code",
   "execution_count": 11,
   "metadata": {},
   "outputs": [
    {
     "name": "stdout",
     "output_type": "stream",
     "text": [
      "Pearsons correlation: 0.438\n"
     ]
    },
    {
     "data": {
      "image/png": "[encoded data removed]",
      "text/plain": [
       "<Figure size 432x288 with 1 Axes>"
      ]
     },
     "metadata": {
      "needs_background": "light"
     },
     "output_type": "display_data"
    }
   ],
   "source": [
    "# Sixth: price point that yields highest rating\n",
    "cursor.execute(\"SELECT `Price range`, `Aggregate rating` FROM test_db.zomato\")#WHERE 'Has Online delivery' = 'Yes'\")\n",
    "result = cursor.fetchall()\n",
    "df = pd.DataFrame.from_dict(result)\n",
    "data = df.values\n",
    "price_range = [i[0] for i in data]\n",
    "agg_rating = [i[1] for i in data]\n",
    "\n",
    "ax1 = df.plot.scatter(x='Aggregate rating',\n",
    "                      y='Price range',\n",
    "                      c='DarkBlue')\n",
    "\n",
    "# calculate Pearson's correlation\n",
    "corr, _ = pearsonr(price_range, agg_rating)\n",
    "print('Pearsons correlation: %.3f' % corr)"
   ]
  },
  {
   "cell_type": "code",
   "execution_count": 34,
   "metadata": {},
   "outputs": [
    {
     "name": "stdout",
     "output_type": "stream",
     "text": [
      "     Country Code              City  Average Rating\n",
      "57            189        Inner City        4.900000\n",
      "108           162       Quezon City        4.800000\n",
      "74            162       Makati City        4.650000\n",
      "96            162        Pasig City        4.633333\n",
      "76            162  Mandaluyong City        4.625000\n",
      "..            ...               ...             ...\n",
      "89              1         New Delhi        2.438845\n",
      "79            216         Mc Millan        2.400000\n",
      "84             14         Montville        2.400000\n",
      "90              1             Noida        2.036204\n",
      "44              1         Faridabad        1.866932\n",
      "\n",
      "[141 rows x 3 columns]\n",
      "0    South Africa\n",
      "1     Phillipines\n",
      "2       Australia\n",
      "Name: Country, dtype: object\n"
     ]
    },
    {
     "data": {
      "image/png": "[encoded data removed]",
      "text/plain": [
       "<Figure size 1800x720 with 1 Axes>"
      ]
     },
     "metadata": {
      "needs_background": "light"
     },
     "output_type": "display_data"
    }
   ],
   "source": [
    "# 7th - look at different localities in the countries and see the popular areas for resturants\n",
    "cursor.execute(\"SELECT `Country Code`, `City`, Avg(`Aggregate rating`) as `Average Rating` FROM test_db.zomato group by `City`\")#WHERE 'Has Online delivery' = 'Yes'\")\n",
    "result = cursor.fetchall()\n",
    "df = pd.DataFrame.from_dict(result)\n",
    "df = df.sort_values(by=['Average Rating'], ascending=False)\n",
    "print(df)\n",
    "\n",
    "country = pd.read_excel('Country-Code.xlsx')\n",
    "data = pd.merge(df, country, on='Country Code')\n",
    "\n",
    "smaller_countries = pd.merge(pd.DataFrame(data.head(20)['Country Code'].unique(), columns=['Country Code']), country, on='Country Code')\n",
    "print(smaller_countries['Country'])\n",
    "\n",
    "ax = data.head(20).sort_values(by=['Average Rating'], ascending=False).plot.bar(x='City', y='Average Rating', rot=0, figsize=(25,10)) #couldnt figure out how to color bars by country"
   ]
  },
  {
   "cell_type": "code",
   "execution_count": 40,
   "metadata": {},
   "outputs": [
    {
     "name": "stdout",
     "output_type": "stream",
     "text": [
      "Pearsons correlation: 0.266\n",
      "      Price range  Rating text\n",
      "0               3          5.0\n",
      "1               3          5.0\n",
      "2               4          4.0\n",
      "3               4          5.0\n",
      "4               4          5.0\n",
      "...           ...          ...\n",
      "9546            3          4.0\n",
      "9547            3          4.0\n",
      "9548            4          3.0\n",
      "9549            4          4.0\n",
      "9550            2          4.0\n",
      "\n",
      "[3666 rows x 2 columns]\n"
     ]
    }
   ],
   "source": [
    "# 8th - price range vs ratings text and see if a resturant that has a higher price range is more popular\n",
    "cursor.execute(\"SELECT `Price range`, `Rating text` FROM test_db.zomato\")\n",
    "result = cursor.fetchall()\n",
    "df = pd.DataFrame.from_dict(result)\n",
    "\n",
    "#process data\n",
    "# Excellent, Very Good ,Good, Avg., Poor, Not Rated\n",
    "df['Rating text'] = df['Rating text'].map({'Excellent' : 5, 'Very Good' : 4, 'Good' : 3, 'Avg.' : 2, 'Poor' : 1, 'Not Rated' : -1})\n",
    "\n",
    "#remove nans\n",
    "df = df.dropna()\n",
    "\n",
    "data = df.values\n",
    "price_range = [i[0] for i in data]\n",
    "text_rating = [i[1] for i in data]\n",
    "corr, _ = pearsonr(price_range, text_rating)\n",
    "print('Pearsons correlation: %.3f' % corr)\n",
    "\n",
    "print(df)"
   ]
  },
  {
   "cell_type": "code",
   "execution_count": null,
   "metadata": {},
   "outputs": [],
   "source": []
  }
 ],
 "metadata": {
  "kernelspec": {
   "display_name": "Python 3",
   "language": "python",
   "name": "python3"
  },
  "language_info": {
   "codemirror_mode": {
    "name": "ipython",
    "version": 3
   },
   "file_extension": ".py",
   "mimetype": "text/x-python",
   "name": "python",
   "nbconvert_exporter": "python",
   "pygments_lexer": "ipython3",
   "version": "3.7.3"
  }
 },
 "nbformat": 4,
 "nbformat_minor": 4
}
